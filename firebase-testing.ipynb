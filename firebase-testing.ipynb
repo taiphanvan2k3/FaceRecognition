{
 "cells": [
  {
   "cell_type": "code",
   "execution_count": 2,
   "metadata": {},
   "outputs": [
    {
     "data": {
      "text/plain": [
       "True"
      ]
     },
     "execution_count": 2,
     "metadata": {},
     "output_type": "execute_result"
    }
   ],
   "source": [
    "from firebase_admin import credentials, firestore, initialize_app, get_app, storage\n",
    "from firebase_admin.auth import create_custom_token\n",
    "import os\n",
    "import socket\n",
    "from dotenv import load_dotenv\n",
    "\n",
    "load_dotenv()"
   ]
  },
  {
   "cell_type": "code",
   "execution_count": 9,
   "metadata": {},
   "outputs": [],
   "source": [
    "def initialize_firestore():\n",
    "    try:\n",
    "        # Kiểm tra xem ứng dụng Firebase đã được khởi tạo chưa\n",
    "        get_app()\n",
    "    except Exception as e:\n",
    "        cred = credentials.Certificate(\"key.json\")\n",
    "        initialize_app(\n",
    "            cred,\n",
    "            {\n",
    "                \"storageBucket\": os.getenv(\"STORAGE_BUCKET\")\n",
    "            },\n",
    "        )\n",
    "        print(\"Initialize: Firebase app has been initialized.\")\n",
    "    return firestore.client()"
   ]
  },
  {
   "cell_type": "code",
   "execution_count": 10,
   "metadata": {},
   "outputs": [],
   "source": [
    "db = initialize_firestore()"
   ]
  },
  {
   "cell_type": "code",
   "execution_count": 11,
   "metadata": {},
   "outputs": [],
   "source": [
    "\n",
    "def upload_file_to_fire_storage(file_path, file_name=\"\", bucket_name=\"OpenDoorHistory\"):\n",
    "    bucket = storage.bucket()\n",
    "    if file_name == \"\":\n",
    "        file_name = os.path.basename(file_path)\n",
    "    blob_name = f\"{bucket_name}/{file_name}\"\n",
    "    blob = bucket.blob(blob_name)\n",
    "\n",
    "    # Tạo access token\n",
    "    token = create_custom_token(\"<uid>\")\n",
    "\n",
    "    # Thêm token vào header của yêu cầu tải lên\n",
    "    blob.metadata = {\"customMetadata\": {\"FirebaseStorageDownloadTokens\": token}}\n",
    "    blob.upload_from_filename(file_path)\n",
    "    blob.make_public()\n",
    "\n",
    "    print(f\"Done upload {file_name} to {bucket_name}.\")\n",
    "    return blob.public_url"
   ]
  },
  {
   "cell_type": "code",
   "execution_count": 12,
   "metadata": {},
   "outputs": [
    {
     "name": "stdout",
     "output_type": "stream",
     "text": [
      "Done upload truong.png to OpenDoorHistory.\n"
     ]
    },
    {
     "data": {
      "text/plain": [
       "'https://storage.googleapis.com/smart-home-1a39b.appspot.com/OpenDoorHistory/truong.png'"
      ]
     },
     "execution_count": 12,
     "metadata": {},
     "output_type": "execute_result"
    }
   ],
   "source": [
    "upload_file_to_fire_storage(\"truong.png\", \"truong.png\", \"OpenDoorHistory\")"
   ]
  }
 ],
 "metadata": {
  "kernelspec": {
   "display_name": ".venv",
   "language": "python",
   "name": "python3"
  },
  "language_info": {
   "codemirror_mode": {
    "name": "ipython",
    "version": 3
   },
   "file_extension": ".py",
   "mimetype": "text/x-python",
   "name": "python",
   "nbconvert_exporter": "python",
   "pygments_lexer": "ipython3",
   "version": "3.11.5"
  }
 },
 "nbformat": 4,
 "nbformat_minor": 2
}
